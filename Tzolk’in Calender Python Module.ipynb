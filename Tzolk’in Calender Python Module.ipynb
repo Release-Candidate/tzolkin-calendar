{
 "cells": [
  {
   "cell_type": "markdown",
   "id": "willing-produce",
   "metadata": {},
   "source": [
    "# Usage of tzolkin-calendar in Your Python Code\n",
    "\n",
    "For more information, visit the [Github project page](https://github.com/Release-Candidate/tzolkin-calendar)\n",
    "\n",
    "\n",
    "## Import the Module\n",
    "\n",
    "To use the Tzolk’in date package, import `tzolkin_calender` (with an underscore `_`).\n",
    "\n",
    "A short check to see if it is working, is to print the version of `tzolkin-calendar`, that's the constant `tzolkin_calendar.VERSION`."
   ]
  },
  {
   "cell_type": "code",
   "execution_count": 1,
   "id": "sitting-staff",
   "metadata": {},
   "outputs": [
    {
     "data": {
      "text/plain": [
       "'0.9.6'"
      ]
     },
     "execution_count": 1,
     "metadata": {},
     "output_type": "execute_result"
    }
   ],
   "source": [
    "# Import the package.\n",
    "import tzolkin_calendar\n",
    "\n",
    "# Check, if it is working.\n",
    "tzolkin_calendar.VERSION"
   ]
  },
  {
   "cell_type": "markdown",
   "id": "curious-profile",
   "metadata": {},
   "source": [
    "## The Tzolk’in Date Class `Tzolkin`\n",
    "\n",
    "The Tzolk’in date class resides in the module `tzolkin_calendar.tzolkin`, and is named `Tzolkin`.\n",
    "\n",
    "So, import that module:"
   ]
  },
  {
   "cell_type": "code",
   "execution_count": 2,
   "id": "cathedral-internship",
   "metadata": {},
   "outputs": [],
   "source": [
    "# Import the module tzolkin that contains `Tzolkin`.\n",
    "from tzolkin_calendar import tzolkin"
   ]
  },
  {
   "cell_type": "markdown",
   "id": "latin-slope",
   "metadata": {},
   "source": [
    "### Convert Gregorian Dates to Tzolk’in Dates\n",
    "\n",
    "To get the Tzolk’in date of today, call the static method `fromToday`. This returns a `Tzolkin` instance holding the \n",
    "Tzolk’in date of today ('today' is the 22nd of March, 2021, with a Tzolk’in date of '1 Bʼen')"
   ]
  },
  {
   "cell_type": "code",
   "execution_count": 3,
   "id": "sustainable-school",
   "metadata": {},
   "outputs": [
    {
     "data": {
      "text/plain": [
       "4 Kʼibʼ"
      ]
     },
     "execution_count": 3,
     "metadata": {},
     "output_type": "execute_result"
    }
   ],
   "source": [
    "tzolkin.Tzolkin.fromToday()"
   ]
  },
  {
   "cell_type": "markdown",
   "id": "induced-stationery",
   "metadata": {},
   "source": [
    "You can generate a `Tzolkin` instance from any gregorian date using the `datetime.date` class or a date string.\n",
    "\n",
    "So, first import the datetime module:"
   ]
  },
  {
   "cell_type": "code",
   "execution_count": 4,
   "id": "cooperative-import",
   "metadata": {},
   "outputs": [],
   "source": [
    "import datetime"
   ]
  },
  {
   "cell_type": "markdown",
   "id": "small-waste",
   "metadata": {},
   "source": [
    "And then use the 3 possibilities to set the Tzolk’in date from a gregorian date. Or, in other words, to convert a gregorian date to a Tzolk’in date.\n",
    "\n",
    "1. from a datetime.date instance using `Tzolkin.fromDate`. We use the method `fromisoformat` to set the gregorian date to the\n",
    "22nd of March 2021 with the date string '2021-03-22'. The Tzolk’in date of the 22nd of March 2021 is '1 Bʼen'."
   ]
  },
  {
   "cell_type": "code",
   "execution_count": 5,
   "id": "coupled-signal",
   "metadata": {},
   "outputs": [
    {
     "data": {
      "text/plain": [
       "1 Bʼen"
      ]
     },
     "execution_count": 5,
     "metadata": {},
     "output_type": "execute_result"
    }
   ],
   "source": [
    "gregorian_date = datetime.date.fromisoformat(\"2021-03-22\")\n",
    "\n",
    "tzolkin.Tzolkin.fromDate(gregorian_date)"
   ]
  },
  {
   "cell_type": "markdown",
   "id": "specified-large",
   "metadata": {},
   "source": [
    "2. from an ISO date string using `Tzolkin.fromIsoFormat`. We set the Tzolk’in date to the 22nd of March 2021 with the ISO date\n",
    "string '2021-03-22'. The Tzolk’in date of the 22nd of March 2021 is '1 Bʼen'."
   ]
  },
  {
   "cell_type": "code",
   "execution_count": 6,
   "id": "meaningful-struggle",
   "metadata": {},
   "outputs": [
    {
     "data": {
      "text/plain": [
       "1 Bʼen"
      ]
     },
     "execution_count": 6,
     "metadata": {},
     "output_type": "execute_result"
    }
   ],
   "source": [
    "tzolkin.Tzolkin.fromIsoFormat(\"2021-03-22\")"
   ]
  },
  {
   "cell_type": "markdown",
   "id": "endangered-jaguar",
   "metadata": {},
   "source": [
    "3. from an arbitrary date string using `Tzolkin.fromDateString`. We set the Tzolk’in date to the 22nd of March 2021 with the date string '22=03\\*2021' and the format string `fmt` '%d=%m*%Y'. The Tzolk’in date of the 22nd of March 2021 is '1 Bʼen'."
   ]
  },
  {
   "cell_type": "code",
   "execution_count": 7,
   "id": "fourth-pharmacy",
   "metadata": {},
   "outputs": [
    {
     "data": {
      "text/plain": [
       "1 Bʼen"
      ]
     },
     "execution_count": 7,
     "metadata": {},
     "output_type": "execute_result"
    }
   ],
   "source": [
    "tzolkin.Tzolkin.fromDateString(\"22=03*2021\", fmt=\"%d=%m*%Y\")"
   ]
  },
  {
   "cell_type": "markdown",
   "id": "complex-beads",
   "metadata": {},
   "source": [
    "### Set Tzolk’in Dates\n",
    "\n",
    "You can set the `Tzolkin` instance to a Tzolk’in Date using it's constructor. The construcotr takes the Tzolk’in day number (between 1 and 13 including 1 and 13) and either a Tzolk’in day name or the number of the Tzolk’in day name (between 1 and 20 , including 1 and 20).\n",
    "\n",
    "To get a dictionary of Tzolk’in day names and numbers, look at `tzolkin.day_names`."
   ]
  },
  {
   "cell_type": "code",
   "execution_count": 8,
   "id": "based-billion",
   "metadata": {},
   "outputs": [
    {
     "data": {
      "text/plain": [
       "{1: 'Imix',\n",
       " 2: 'Ikʼ',\n",
       " 3: 'Akʼbʼal',\n",
       " 4: 'Kʼan',\n",
       " 5: 'Chikchan',\n",
       " 6: 'Kimi',\n",
       " 7: 'Manikʼ',\n",
       " 8: 'Lamat',\n",
       " 9: 'Muluk',\n",
       " 10: 'Ok',\n",
       " 11: 'Chuwen',\n",
       " 12: 'Ebʼ',\n",
       " 13: 'Bʼen',\n",
       " 14: 'Ix',\n",
       " 15: 'Men',\n",
       " 16: 'Kʼibʼ',\n",
       " 17: 'Kabʼan',\n",
       " 18: 'Etzʼnabʼ',\n",
       " 19: 'Kawak',\n",
       " 20: 'Ajaw'}"
      ]
     },
     "execution_count": 8,
     "metadata": {},
     "output_type": "execute_result"
    }
   ],
   "source": [
    "tzolkin.day_names"
   ]
  },
  {
   "cell_type": "markdown",
   "id": "rapid-replication",
   "metadata": {},
   "source": [
    "If we want to set a Tzolk’in day of '8 Kabʼan', we can either pass the day number 8 and day name Kabʼan to the constructor, or\n",
    "the day number 8 and the day name number 17."
   ]
  },
  {
   "cell_type": "code",
   "execution_count": 9,
   "id": "million-string",
   "metadata": {},
   "outputs": [
    {
     "data": {
      "text/plain": [
       "8 Kabʼan"
      ]
     },
     "execution_count": 9,
     "metadata": {},
     "output_type": "execute_result"
    }
   ],
   "source": [
    "tzolkin.Tzolkin(number=8, name_str=\"Kabʼan\")"
   ]
  },
  {
   "cell_type": "code",
   "execution_count": 10,
   "id": "proper-combination",
   "metadata": {},
   "outputs": [
    {
     "data": {
      "text/plain": [
       "8 Kabʼan"
      ]
     },
     "execution_count": 10,
     "metadata": {},
     "output_type": "execute_result"
    }
   ],
   "source": [
    "tzolkin.Tzolkin(number=8, name_number=17)"
   ]
  },
  {
   "cell_type": "markdown",
   "id": "dirty-builder",
   "metadata": {},
   "source": [
    "If we pass an invalid number (not in [1, 13]) or name to the constructor, we get a `TzolkinException`.\n",
    "\n",
    "```python\n",
    "tzolkin.Tzolkin(number=53, name_number=17)\n",
    "\n",
    "    TzolkinException: number 53 is not a valid Tzolkin day number, not between 1 and 13 (including 1 and 13)\n",
    "\n",
    "tzolkin.Tzolkin(number=3, name_str=\"Hugo\")\n",
    "\n",
    "    TzolkinException: string \"Hugo\" is not a valid Tzolkin day name, one of: dict_values(['Imix', 'Ikʼ', 'Akʼbʼal', 'Kʼan', 'Chikchan', 'Kimi', 'Manikʼ', 'Lamat', 'Muluk', 'Ok', 'Chuwen', 'Ebʼ', 'Bʼen', 'Ix', 'Men', 'Kʼibʼ', 'Kabʼan', 'Etzʼnabʼ', 'Kawak', 'Ajaw'])\n",
    "          \n",
    "tzolkin.Tzolkin(number=3, name_number=-5)\n",
    "\n",
    "    TzolkinException: -5 is not a valid Tzolkin day name number, it must be between 1 and 20 (including 1 and 20)\n",
    "```"
   ]
  },
  {
   "cell_type": "markdown",
   "id": "binding-divorce",
   "metadata": {},
   "source": [
    "These Tzolk’in day numbers and names can be accessed using the mthods `getDayNumber`, `getDayName` and `getDayNameNumber`."
   ]
  },
  {
   "cell_type": "code",
   "execution_count": 11,
   "id": "sound-discussion",
   "metadata": {},
   "outputs": [
    {
     "data": {
      "text/plain": [
       "12"
      ]
     },
     "execution_count": 11,
     "metadata": {},
     "output_type": "execute_result"
    }
   ],
   "source": [
    "# Set the Tzolk’in date to '12 Kimi'.\n",
    "tzolkin_date = tzolkin.Tzolkin(number=12, name_str=\"Kimi\")\n",
    "\n",
    "tzolkin_date.getDayNumber()"
   ]
  },
  {
   "cell_type": "code",
   "execution_count": 12,
   "id": "sorted-bathroom",
   "metadata": {},
   "outputs": [
    {
     "data": {
      "text/plain": [
       "'Kimi'"
      ]
     },
     "execution_count": 12,
     "metadata": {},
     "output_type": "execute_result"
    }
   ],
   "source": [
    "tzolkin_date.getDayName()"
   ]
  },
  {
   "cell_type": "code",
   "execution_count": 13,
   "id": "proud-musical",
   "metadata": {},
   "outputs": [
    {
     "data": {
      "text/plain": [
       "6"
      ]
     },
     "execution_count": 13,
     "metadata": {},
     "output_type": "execute_result"
    }
   ],
   "source": [
    "tzolkin_date.getDayNameNumber()"
   ]
  },
  {
   "cell_type": "markdown",
   "id": "sonic-guard",
   "metadata": {},
   "source": [
    " To get the number of Tzolk’in day in the Tzolk’in year of 260 days, there is `getTzolkinYearDay`. For example '12 Kimi' is the 246. day (of 260 days)  of the Tzolk’in year"
   ]
  },
  {
   "cell_type": "code",
   "execution_count": 14,
   "id": "impossible-lending",
   "metadata": {},
   "outputs": [
    {
     "data": {
      "text/plain": [
       "246"
      ]
     },
     "execution_count": 14,
     "metadata": {},
     "output_type": "execute_result"
    }
   ],
   "source": [
    "tzolkin_date.getTzolkinYearDay()"
   ]
  },
  {
   "cell_type": "markdown",
   "id": "spread-roots",
   "metadata": {},
   "source": [
    "To "
   ]
  },
  {
   "cell_type": "code",
   "execution_count": 15,
   "id": "single-hierarchy",
   "metadata": {},
   "outputs": [
    {
     "data": {
      "text/plain": [
       "'Etzʼnabʼ'"
      ]
     },
     "execution_count": 15,
     "metadata": {},
     "output_type": "execute_result"
    }
   ],
   "source": [
    "day_number = tzolkin.Tzolkin.parseTzolkinName(\"EtZ`nAB\")\n",
    "if day_number != 0:\n",
    "    tzolkin_name = tzolkin_calendar.day_names[day_number]\n",
    "tzolkin_name"
   ]
  },
  {
   "cell_type": "markdown",
   "id": "ambient-leisure",
   "metadata": {},
   "source": [
    "All 260 Tzolk’in days of a Tzolk’in year we can get as a list of strings from the static method `getTzolkinCalendar`."
   ]
  },
  {
   "cell_type": "code",
   "execution_count": 16,
   "id": "regulated-cooler",
   "metadata": {
    "scrolled": false
   },
   "outputs": [
    {
     "data": {
      "text/plain": [
       "['1 Imix',\n",
       " '2 Ikʼ',\n",
       " '3 Akʼbʼal',\n",
       " '4 Kʼan',\n",
       " '5 Chikchan',\n",
       " '6 Kimi',\n",
       " '7 Manikʼ',\n",
       " '8 Lamat',\n",
       " '9 Muluk',\n",
       " '10 Ok',\n",
       " '11 Chuwen',\n",
       " '12 Ebʼ',\n",
       " '13 Bʼen',\n",
       " '1 Ix',\n",
       " '2 Men',\n",
       " '3 Kʼibʼ',\n",
       " '4 Kabʼan',\n",
       " '5 Etzʼnabʼ',\n",
       " '6 Kawak',\n",
       " '7 Ajaw',\n",
       " '8 Imix',\n",
       " '9 Ikʼ',\n",
       " '10 Akʼbʼal',\n",
       " '11 Kʼan',\n",
       " '12 Chikchan',\n",
       " '13 Kimi',\n",
       " '1 Manikʼ',\n",
       " '2 Lamat',\n",
       " '3 Muluk',\n",
       " '4 Ok',\n",
       " '5 Chuwen',\n",
       " '6 Ebʼ',\n",
       " '7 Bʼen',\n",
       " '8 Ix',\n",
       " '9 Men',\n",
       " '10 Kʼibʼ',\n",
       " '11 Kabʼan',\n",
       " '12 Etzʼnabʼ',\n",
       " '13 Kawak',\n",
       " '1 Ajaw',\n",
       " '2 Imix',\n",
       " '3 Ikʼ',\n",
       " '4 Akʼbʼal',\n",
       " '5 Kʼan',\n",
       " '6 Chikchan',\n",
       " '7 Kimi',\n",
       " '8 Manikʼ',\n",
       " '9 Lamat',\n",
       " '10 Muluk',\n",
       " '11 Ok',\n",
       " '12 Chuwen',\n",
       " '13 Ebʼ',\n",
       " '1 Bʼen',\n",
       " '2 Ix',\n",
       " '3 Men',\n",
       " '4 Kʼibʼ',\n",
       " '5 Kabʼan',\n",
       " '6 Etzʼnabʼ',\n",
       " '7 Kawak',\n",
       " '8 Ajaw',\n",
       " '9 Imix',\n",
       " '10 Ikʼ',\n",
       " '11 Akʼbʼal',\n",
       " '12 Kʼan',\n",
       " '13 Chikchan',\n",
       " '1 Kimi',\n",
       " '2 Manikʼ',\n",
       " '3 Lamat',\n",
       " '4 Muluk',\n",
       " '5 Ok',\n",
       " '6 Chuwen',\n",
       " '7 Ebʼ',\n",
       " '8 Bʼen',\n",
       " '9 Ix',\n",
       " '10 Men',\n",
       " '11 Kʼibʼ',\n",
       " '12 Kabʼan',\n",
       " '13 Etzʼnabʼ',\n",
       " '1 Kawak',\n",
       " '2 Ajaw',\n",
       " '3 Imix',\n",
       " '4 Ikʼ',\n",
       " '5 Akʼbʼal',\n",
       " '6 Kʼan',\n",
       " '7 Chikchan',\n",
       " '8 Kimi',\n",
       " '9 Manikʼ',\n",
       " '10 Lamat',\n",
       " '11 Muluk',\n",
       " '12 Ok',\n",
       " '13 Chuwen',\n",
       " '1 Ebʼ',\n",
       " '2 Bʼen',\n",
       " '3 Ix',\n",
       " '4 Men',\n",
       " '5 Kʼibʼ',\n",
       " '6 Kabʼan',\n",
       " '7 Etzʼnabʼ',\n",
       " '8 Kawak',\n",
       " '9 Ajaw',\n",
       " '10 Imix',\n",
       " '11 Ikʼ',\n",
       " '12 Akʼbʼal',\n",
       " '13 Kʼan',\n",
       " '1 Chikchan',\n",
       " '2 Kimi',\n",
       " '3 Manikʼ',\n",
       " '4 Lamat',\n",
       " '5 Muluk',\n",
       " '6 Ok',\n",
       " '7 Chuwen',\n",
       " '8 Ebʼ',\n",
       " '9 Bʼen',\n",
       " '10 Ix',\n",
       " '11 Men',\n",
       " '12 Kʼibʼ',\n",
       " '13 Kabʼan',\n",
       " '1 Etzʼnabʼ',\n",
       " '2 Kawak',\n",
       " '3 Ajaw',\n",
       " '4 Imix',\n",
       " '5 Ikʼ',\n",
       " '6 Akʼbʼal',\n",
       " '7 Kʼan',\n",
       " '8 Chikchan',\n",
       " '9 Kimi',\n",
       " '10 Manikʼ',\n",
       " '11 Lamat',\n",
       " '12 Muluk',\n",
       " '13 Ok',\n",
       " '1 Chuwen',\n",
       " '2 Ebʼ',\n",
       " '3 Bʼen',\n",
       " '4 Ix',\n",
       " '5 Men',\n",
       " '6 Kʼibʼ',\n",
       " '7 Kabʼan',\n",
       " '8 Etzʼnabʼ',\n",
       " '9 Kawak',\n",
       " '10 Ajaw',\n",
       " '11 Imix',\n",
       " '12 Ikʼ',\n",
       " '13 Akʼbʼal',\n",
       " '1 Kʼan',\n",
       " '2 Chikchan',\n",
       " '3 Kimi',\n",
       " '4 Manikʼ',\n",
       " '5 Lamat',\n",
       " '6 Muluk',\n",
       " '7 Ok',\n",
       " '8 Chuwen',\n",
       " '9 Ebʼ',\n",
       " '10 Bʼen',\n",
       " '11 Ix',\n",
       " '12 Men',\n",
       " '13 Kʼibʼ',\n",
       " '1 Kabʼan',\n",
       " '2 Etzʼnabʼ',\n",
       " '3 Kawak',\n",
       " '4 Ajaw',\n",
       " '5 Imix',\n",
       " '6 Ikʼ',\n",
       " '7 Akʼbʼal',\n",
       " '8 Kʼan',\n",
       " '9 Chikchan',\n",
       " '10 Kimi',\n",
       " '11 Manikʼ',\n",
       " '12 Lamat',\n",
       " '13 Muluk',\n",
       " '1 Ok',\n",
       " '2 Chuwen',\n",
       " '3 Ebʼ',\n",
       " '4 Bʼen',\n",
       " '5 Ix',\n",
       " '6 Men',\n",
       " '7 Kʼibʼ',\n",
       " '8 Kabʼan',\n",
       " '9 Etzʼnabʼ',\n",
       " '10 Kawak',\n",
       " '11 Ajaw',\n",
       " '12 Imix',\n",
       " '13 Ikʼ',\n",
       " '1 Akʼbʼal',\n",
       " '2 Kʼan',\n",
       " '3 Chikchan',\n",
       " '4 Kimi',\n",
       " '5 Manikʼ',\n",
       " '6 Lamat',\n",
       " '7 Muluk',\n",
       " '8 Ok',\n",
       " '9 Chuwen',\n",
       " '10 Ebʼ',\n",
       " '11 Bʼen',\n",
       " '12 Ix',\n",
       " '13 Men',\n",
       " '1 Kʼibʼ',\n",
       " '2 Kabʼan',\n",
       " '3 Etzʼnabʼ',\n",
       " '4 Kawak',\n",
       " '5 Ajaw',\n",
       " '6 Imix',\n",
       " '7 Ikʼ',\n",
       " '8 Akʼbʼal',\n",
       " '9 Kʼan',\n",
       " '10 Chikchan',\n",
       " '11 Kimi',\n",
       " '12 Manikʼ',\n",
       " '13 Lamat',\n",
       " '1 Muluk',\n",
       " '2 Ok',\n",
       " '3 Chuwen',\n",
       " '4 Ebʼ',\n",
       " '5 Bʼen',\n",
       " '6 Ix',\n",
       " '7 Men',\n",
       " '8 Kʼibʼ',\n",
       " '9 Kabʼan',\n",
       " '10 Etzʼnabʼ',\n",
       " '11 Kawak',\n",
       " '12 Ajaw',\n",
       " '13 Imix',\n",
       " '1 Ikʼ',\n",
       " '2 Akʼbʼal',\n",
       " '3 Kʼan',\n",
       " '4 Chikchan',\n",
       " '5 Kimi',\n",
       " '6 Manikʼ',\n",
       " '7 Lamat',\n",
       " '8 Muluk',\n",
       " '9 Ok',\n",
       " '10 Chuwen',\n",
       " '11 Ebʼ',\n",
       " '12 Bʼen',\n",
       " '13 Ix',\n",
       " '1 Men',\n",
       " '2 Kʼibʼ',\n",
       " '3 Kabʼan',\n",
       " '4 Etzʼnabʼ',\n",
       " '5 Kawak',\n",
       " '6 Ajaw',\n",
       " '7 Imix',\n",
       " '8 Ikʼ',\n",
       " '9 Akʼbʼal',\n",
       " '10 Kʼan',\n",
       " '11 Chikchan',\n",
       " '12 Kimi',\n",
       " '13 Manikʼ',\n",
       " '1 Lamat',\n",
       " '2 Muluk',\n",
       " '3 Ok',\n",
       " '4 Chuwen',\n",
       " '5 Ebʼ',\n",
       " '6 Bʼen',\n",
       " '7 Ix',\n",
       " '8 Men',\n",
       " '9 Kʼibʼ',\n",
       " '10 Kabʼan',\n",
       " '11 Etzʼnabʼ',\n",
       " '12 Kawak',\n",
       " '13 Ajaw']"
      ]
     },
     "execution_count": 16,
     "metadata": {},
     "output_type": "execute_result"
    }
   ],
   "source": [
    "tzolkin.Tzolkin.getTzolkinCalendar()"
   ]
  },
  {
   "cell_type": "markdown",
   "id": "ranging-carol",
   "metadata": {},
   "source": [
    "### Search Gregorian Dates to a given Tzolk’in Date\n",
    "\n",
    "We can search for the next (forward in time) or last (backwards in time) day with the same Tzolk’in date using the methods `getNextDate` and `getLastDate`. Both methods return a `datetime.date` object.\n",
    "\n",
    "When searching for the next gregorian date that has the Tzolk’in date '7 Kawak', we get the 28th of March, 2021 - because we started searching 'today', which is the 22nd of March 2021."
   ]
  },
  {
   "cell_type": "code",
   "execution_count": 17,
   "id": "ignored-melissa",
   "metadata": {},
   "outputs": [
    {
     "data": {
      "text/plain": [
       "datetime.date(2021, 3, 28)"
      ]
     },
     "execution_count": 17,
     "metadata": {},
     "output_type": "execute_result"
    }
   ],
   "source": [
    "# Set the Tzolk’in date to search for to '7 Kawak'.\n",
    "tzolkin_date = tzolkin.Tzolkin(number=7, name_str=\"Kawak\")\n",
    "\n",
    "tzolkin_date.getNextDate()"
   ]
  },
  {
   "cell_type": "markdown",
   "id": "crazy-vietnamese",
   "metadata": {},
   "source": [
    "When searching for the last gregorian date that has the Tzolk’in date '7 Kawak', we get the 11th of July, 2020 - because we started searching 'today', which is the 22nd of March 2021."
   ]
  },
  {
   "cell_type": "code",
   "execution_count": 18,
   "id": "cardiovascular-injury",
   "metadata": {},
   "outputs": [
    {
     "data": {
      "text/plain": [
       "datetime.date(2020, 7, 11)"
      ]
     },
     "execution_count": 18,
     "metadata": {},
     "output_type": "execute_result"
    }
   ],
   "source": [
    "tzolkin_date.getLastDate()"
   ]
  },
  {
   "cell_type": "markdown",
   "id": "adequate-musician",
   "metadata": {},
   "source": [
    "Both methods, `getNextDate` and `getLastDate` take an optional argument `start_date`, which is the gregorian date to start\n",
    "the search. If no `start_date` is given, 'today' is used as the start date.\n",
    "\n",
    "So now we search again for '7 Kawak' in both directions, but this time we start at the 10th of July, 2020."
   ]
  },
  {
   "cell_type": "code",
   "execution_count": 19,
   "id": "computational-bryan",
   "metadata": {},
   "outputs": [
    {
     "data": {
      "text/plain": [
       "'2020-07-10'"
      ]
     },
     "execution_count": 19,
     "metadata": {},
     "output_type": "execute_result"
    }
   ],
   "source": [
    "# Set the Tzolk’in date to search for to '7 Kawak'.\n",
    "tzolkin_date = tzolkin.Tzolkin(number=7, name_str=\"Kawak\")\n",
    "\n",
    "# Set the start date of the search to the 10th of July, 2020.\n",
    "start_search = datetime.date.fromisoformat(\"2020-07-10\")\n",
    "\n",
    "start_search.isoformat()"
   ]
  },
  {
   "cell_type": "markdown",
   "id": "headed-battlefield",
   "metadata": {},
   "source": [
    "For the next day with a Tzolk’in date of '7 Kawak' we now get the 11th of July, 2020."
   ]
  },
  {
   "cell_type": "code",
   "execution_count": 20,
   "id": "hearing-brain",
   "metadata": {},
   "outputs": [
    {
     "data": {
      "text/plain": [
       "datetime.date(2020, 7, 11)"
      ]
     },
     "execution_count": 20,
     "metadata": {},
     "output_type": "execute_result"
    }
   ],
   "source": [
    "tzolkin_date.getNextDate(start_date=start_search)"
   ]
  },
  {
   "cell_type": "markdown",
   "id": "wrapped-producer",
   "metadata": {},
   "source": [
    "For the last day before our start date with a Tzolk’in date of '7 Kawak' we now get the 25th of October, 2019."
   ]
  },
  {
   "cell_type": "code",
   "execution_count": 21,
   "id": "interested-academy",
   "metadata": {},
   "outputs": [
    {
     "data": {
      "text/plain": [
       "datetime.date(2019, 10, 25)"
      ]
     },
     "execution_count": 21,
     "metadata": {},
     "output_type": "execute_result"
    }
   ],
   "source": [
    "tzolkin_date.getLastDate(start_date=start_search)"
   ]
  },
  {
   "cell_type": "markdown",
   "id": "threatened-honolulu",
   "metadata": {},
   "source": [
    "To get a list of `datetime.date` dates with the same Tzolk’in date, we can use the methods `getNextDateList` and `getLastDateList`.\n",
    "\n",
    "Again, we can set the argument `start_date` to a gregorian date to start the search or not set it to start the search today.\n",
    "The number of elements in the returned list is set using the parameter `list_size`, which defaults to 50."
   ]
  },
  {
   "cell_type": "code",
   "execution_count": 22,
   "id": "written-breakdown",
   "metadata": {},
   "outputs": [],
   "source": [
    "# Set the Tzolk’in date to search for to '7 Kawak'.\n",
    "tzolkin_date = tzolkin.Tzolkin(number=7, name_str=\"Kawak\")"
   ]
  },
  {
   "cell_type": "markdown",
   "id": "front-illustration",
   "metadata": {},
   "source": [
    "Let's start the search for dates with a Tzolk’in date of ' 7 Kawak' today, the 22nd of March 2021, and set the list size to 9 elements:"
   ]
  },
  {
   "cell_type": "code",
   "execution_count": 23,
   "id": "indie-prevention",
   "metadata": {},
   "outputs": [
    {
     "data": {
      "text/plain": [
       "[datetime.date(2021, 3, 28),\n",
       " datetime.date(2021, 12, 13),\n",
       " datetime.date(2022, 8, 30),\n",
       " datetime.date(2023, 5, 17),\n",
       " datetime.date(2024, 2, 1),\n",
       " datetime.date(2024, 10, 18),\n",
       " datetime.date(2025, 7, 5),\n",
       " datetime.date(2026, 3, 22),\n",
       " datetime.date(2026, 12, 7)]"
      ]
     },
     "execution_count": 23,
     "metadata": {},
     "output_type": "execute_result"
    }
   ],
   "source": [
    "tzolkin_date.getNextDateList(list_size=9)"
   ]
  },
  {
   "cell_type": "markdown",
   "id": "incomplete-heritage",
   "metadata": {},
   "source": [
    "Now start searching for '7 Kawak' on the 29th of March, 2021 and set the returned list size to 5."
   ]
  },
  {
   "cell_type": "code",
   "execution_count": 24,
   "id": "connected-roots",
   "metadata": {},
   "outputs": [
    {
     "data": {
      "text/plain": [
       "[datetime.date(2021, 3, 28),\n",
       " datetime.date(2020, 7, 11),\n",
       " datetime.date(2019, 10, 25),\n",
       " datetime.date(2019, 2, 7),\n",
       " datetime.date(2018, 5, 23)]"
      ]
     },
     "execution_count": 24,
     "metadata": {},
     "output_type": "execute_result"
    }
   ],
   "source": [
    "# Set the start date of the search to the 29th of March, 2021.\n",
    "start_search = datetime.date.fromisoformat(\"2021-03-29\")\n",
    "\n",
    "tzolkin_date.getLastDateList(start_date=start_search, list_size=5)"
   ]
  },
  {
   "cell_type": "markdown",
   "id": "domestic-tractor",
   "metadata": {},
   "source": [
    "### Calculations using  Tzolk’in Dates\n",
    "\n",
    "There are 4 methods to get the difference in days between two Tzolk’in dates and to add (or subtract) days from a Tzolk’in date: `addDays`, `addTimedelta`, `getDayDiff` and `getDayTimedelta`.\n",
    "\n",
    "Lets start with a Tzolk’in date of '6 Muluk'."
   ]
  },
  {
   "cell_type": "code",
   "execution_count": 25,
   "id": "collective-branch",
   "metadata": {},
   "outputs": [
    {
     "data": {
      "text/plain": [
       "6 Muluk"
      ]
     },
     "execution_count": 25,
     "metadata": {},
     "output_type": "execute_result"
    }
   ],
   "source": [
    "tzolkin.Tzolkin(number=6, name_str=\"Muluk\")"
   ]
  },
  {
   "cell_type": "markdown",
   "id": "oriented-reservoir",
   "metadata": {},
   "source": [
    "Add 6 days to it, and we get a Tzolk’in date of '12 Men'."
   ]
  },
  {
   "cell_type": "code",
   "execution_count": 26,
   "id": "quiet-certification",
   "metadata": {},
   "outputs": [
    {
     "data": {
      "text/plain": [
       "12 Men"
      ]
     },
     "execution_count": 26,
     "metadata": {},
     "output_type": "execute_result"
    }
   ],
   "source": [
    "tzolkin.Tzolkin(number=6, name_str=\"Muluk\").addDays(6)"
   ]
  },
  {
   "cell_type": "markdown",
   "id": "rational-advancement",
   "metadata": {},
   "source": [
    "Instead of using ints, we can also add and subtract `datetime.timedelta` objects.\n",
    "Now subtract 6 days from '12 Men' - we get '6 Muluk'."
   ]
  },
  {
   "cell_type": "code",
   "execution_count": 27,
   "id": "solved-north",
   "metadata": {},
   "outputs": [
    {
     "data": {
      "text/plain": [
       "6 Muluk"
      ]
     },
     "execution_count": 27,
     "metadata": {},
     "output_type": "execute_result"
    }
   ],
   "source": [
    "to_subtract = datetime.timedelta(days=-6)\n",
    "\n",
    "tzolkin.Tzolkin(number=12, name_str=\"Men\").addTimedelta(to_subtract)"
   ]
  },
  {
   "cell_type": "markdown",
   "id": "shaped-hazard",
   "metadata": {},
   "source": [
    "To get the difference between two Tzolk’in dates there exist the Methods `getDayDiff` and `getDayTimedelta`.\n",
    "\n",
    "Lets calculate the difference in days between '6 Muluk' and '12 Men'."
   ]
  },
  {
   "cell_type": "code",
   "execution_count": 28,
   "id": "promising-repair",
   "metadata": {},
   "outputs": [
    {
     "data": {
      "text/plain": [
       "6"
      ]
     },
     "execution_count": 28,
     "metadata": {},
     "output_type": "execute_result"
    }
   ],
   "source": [
    "# Set start_tzolkin to '6 Muluk'.\n",
    "start_tzolkin = tzolkin.Tzolkin(number=6, name_str=\"Muluk\")\n",
    "\n",
    "# Set end_tzolkin to '12 Men'.\n",
    "end_tzolkin = tzolkin.Tzolkin(number=12, name_str=\"Men\")\n",
    "\n",
    "start_tzolkin.getDayDiff(end_tzolkin)"
   ]
  },
  {
   "cell_type": "markdown",
   "id": "successful-notification",
   "metadata": {},
   "source": [
    "And using `getDayTimedelta`, which returnes a `datetime.timedelta` object."
   ]
  },
  {
   "cell_type": "code",
   "execution_count": 29,
   "id": "announced-spiritual",
   "metadata": {},
   "outputs": [
    {
     "data": {
      "text/plain": [
       "datetime.timedelta(days=6)"
      ]
     },
     "execution_count": 29,
     "metadata": {},
     "output_type": "execute_result"
    }
   ],
   "source": [
    "start_tzolkin.getDayTimedelta(end_tzolkin)"
   ]
  },
  {
   "cell_type": "markdown",
   "id": "prime-sullivan",
   "metadata": {},
   "source": [
    "What happens, if we calculate the difference between '12 Men' and '6 Muluk'?"
   ]
  },
  {
   "cell_type": "code",
   "execution_count": 30,
   "id": "molecular-diving",
   "metadata": {},
   "outputs": [
    {
     "data": {
      "text/plain": [
       "254"
      ]
     },
     "execution_count": 30,
     "metadata": {},
     "output_type": "execute_result"
    }
   ],
   "source": [
    "end_tzolkin.getDayDiff(start_tzolkin)"
   ]
  },
  {
   "cell_type": "markdown",
   "id": "robust-hacker",
   "metadata": {},
   "source": [
    "We get 254 days, not -6. That's because the difference is always calculated forward in time. If you want to get negative days or the shortest possible time difference, subtract 260 from the the result (the number of days in a Tzolk’in year). As soon as the difference in days is greater than 130, to minimum time distance in days 'is negative'."
   ]
  },
  {
   "cell_type": "code",
   "execution_count": 31,
   "id": "stone-platform",
   "metadata": {},
   "outputs": [
    {
     "data": {
      "text/plain": [
       "6"
      ]
     },
     "execution_count": 31,
     "metadata": {},
     "output_type": "execute_result"
    }
   ],
   "source": [
    "day_diff = end_tzolkin.getDayDiff(start_tzolkin)\n",
    "\n",
    "if day_diff > 130:\n",
    "    day_diff = 260 - day_diff\n",
    "day_diff"
   ]
  },
  {
   "cell_type": "markdown",
   "id": "juvenile-terrace",
   "metadata": {},
   "source": [
    "Or you can use the minimum of `result` and ``|result - 260|`` that is ``abs(result - 260)``."
   ]
  },
  {
   "cell_type": "code",
   "execution_count": 32,
   "id": "challenging-headset",
   "metadata": {},
   "outputs": [
    {
     "data": {
      "text/plain": [
       "6"
      ]
     },
     "execution_count": 32,
     "metadata": {},
     "output_type": "execute_result"
    }
   ],
   "source": [
    "day_diff = end_tzolkin.getDayDiff(start_tzolkin)\n",
    "shortest_diff = min(day_diff, abs(day_diff - 260))\n",
    "shortest_diff"
   ]
  },
  {
   "cell_type": "markdown",
   "id": "filled-showcase",
   "metadata": {},
   "source": [
    "This Notebook is licensed under the MIT License, see [LICENSE](https://github.com/Release-Candidate/tzolkin-calendar/blob/main/LICENSE)\n",
    "&copy; Roland Csaszar 2021"
   ]
  }
 ],
 "metadata": {
  "kernelspec": {
   "display_name": "Python 3",
   "language": "python",
   "name": "python3"
  },
  "language_info": {
   "codemirror_mode": {
    "name": "ipython",
    "version": 3
   },
   "file_extension": ".py",
   "mimetype": "text/x-python",
   "name": "python",
   "nbconvert_exporter": "python",
   "pygments_lexer": "ipython3",
   "version": "3.9.2"
  }
 },
 "nbformat": 4,
 "nbformat_minor": 5
}
