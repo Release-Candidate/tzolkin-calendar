{
 "cells": [
  {
   "cell_type": "code",
   "execution_count": 1,
   "id": "conscious-discount",
   "metadata": {},
   "outputs": [],
   "source": [
    "from ipywidgets import interact, interactive, fixed, interact_manual\n",
    "import ipywidgets as widgets\n",
    "import datetime"
   ]
  },
  {
   "cell_type": "code",
   "execution_count": 2,
   "id": "third-handbook",
   "metadata": {},
   "outputs": [],
   "source": [
    "import tzolkin_calendar"
   ]
  },
  {
   "cell_type": "code",
   "execution_count": 3,
   "id": "incoming-aberdeen",
   "metadata": {
    "scrolled": true
   },
   "outputs": [],
   "source": [
    "from tzolkin_calendar import tzolkin"
   ]
  },
  {
   "cell_type": "code",
   "execution_count": 4,
   "id": "documentary-mistake",
   "metadata": {},
   "outputs": [
    {
     "data": {
      "application/vnd.jupyter.widget-view+json": {
       "model_id": "bbdff1dde0f34188a4250d995b281e07",
       "version_major": 2,
       "version_minor": 0
      },
      "text/plain": [
       "interactive(children=(DatePicker(value=datetime.date(2021, 3, 22), description='Pick a Date'), Output()), _dom…"
      ]
     },
     "metadata": {},
     "output_type": "display_data"
    }
   ],
   "source": [
    "interact(tzolkin.Tzolkin.fromDate,date=widgets.DatePicker(description='Pick a Date',disabled=False,value=datetime.date.today()));"
   ]
  },
  {
   "cell_type": "code",
   "execution_count": 5,
   "id": "precious-count",
   "metadata": {},
   "outputs": [
    {
     "data": {
      "application/vnd.jupyter.widget-view+json": {
       "model_id": "186ff863a62c449d974989cf151afe70",
       "version_major": 2,
       "version_minor": 0
      },
      "text/plain": [
       "interactive(children=(IntSlider(value=1, description='Day Number:', max=13, min=1), SelectionSlider(descriptio…"
      ]
     },
     "metadata": {},
     "output_type": "display_data"
    }
   ],
   "source": [
    "def new_tzolkin(number, name_str):\n",
    "    date_list_next = tzolkin.Tzolkin(number=number, name_str=name_str).getNextDateList(list_size=90)\n",
    "    date_list_last = tzolkin.Tzolkin(number=number, name_str=name_str).getLastDateList(list_size=90)\n",
    "    date_list = date_list_last + date_list_next\n",
    "    date_list.sort()\n",
    "   \n",
    "    for idx in range(0, len(date_list), 9):\n",
    "        print(\"{date1}    {date2}    {date3}    {date4}    {date5}     {date6}    {date7}    {date8}    {date9}\".format(\n",
    "            date1=date_list[idx].strftime(\"%d.%m.%Y\"),\n",
    "            date2=date_list[idx+1].strftime(\"%d.%m.%Y\"),\n",
    "            date3=date_list[idx+2].strftime(\"%d.%m.%Y\"),\n",
    "            date4=date_list[idx+3].strftime(\"%d.%m.%Y\"),\n",
    "            date5=date_list[idx+4].strftime(\"%d.%m.%Y\"),    \n",
    "            date6=date_list[idx+5].strftime(\"%d.%m.%Y\"),\n",
    "            date7=date_list[idx+6].strftime(\"%d.%m.%Y\"),\n",
    "            date8=date_list[idx+7].strftime(\"%d.%m.%Y\"),\n",
    "            date9=date_list[idx+8].strftime(\"%d.%m.%Y\"),\n",
    "            )\n",
    "        )\n",
    "       \n",
    "    \n",
    "interact(new_tzolkin, name_str= widgets.SelectionSlider(\n",
    "    options=tzolkin_calendar.day_names.values(),\n",
    "    value='Imix',\n",
    "    description='Day Name',\n",
    "    disabled=False,\n",
    "    continuous_update=True,\n",
    "    orientation='horizontal',\n",
    "    readout=True\n",
    "), number=widgets.IntSlider(\n",
    "    value=1,\n",
    "    min=1,\n",
    "    max=13,\n",
    "    step=1,\n",
    "    description='Day Number:',\n",
    "    disabled=False,\n",
    "    continuous_update=True,\n",
    "    orientation='horizontal',\n",
    "    readout=True,\n",
    "    readout_format='d'\n",
    "));\n"
   ]
  },
  {
   "cell_type": "code",
   "execution_count": 6,
   "id": "streaming-cisco",
   "metadata": {},
   "outputs": [
    {
     "data": {
      "application/vnd.jupyter.widget-view+json": {
       "model_id": "1cb9228e563d4415ad8977129728231d",
       "version_major": 2,
       "version_minor": 0
      },
      "text/plain": [
       "interactive(children=(IntSlider(value=1, description='Day Number:', max=13, min=1), SelectionSlider(descriptio…"
      ]
     },
     "metadata": {},
     "output_type": "display_data"
    }
   ],
   "source": [
    "def new_tzolkin2(number, name_str, filter_str):\n",
    "    date_list_next = tzolkin.Tzolkin(number=number, name_str=name_str).getNextDateList(list_size=100*9 + 1)\n",
    "    date_list_last = tzolkin.Tzolkin(number=number, name_str=name_str).getLastDateList(list_size=300*9)\n",
    "    date_list = date_list_last + date_list_next[1:]\n",
    "    date_list.sort()\n",
    "   \n",
    "   \n",
    "    if filter_str != \"\":\n",
    "        date_str_list = []\n",
    "        for date in date_list:\n",
    "            if date.strftime(\"%d.%m.%Y\").find(filter_str) != -1:\n",
    "                date_str_list.append(date)\n",
    "        for date in date_str_list:\n",
    "            print(date.strftime(\"%d.%m.%Y\"))\n",
    "    else:\n",
    "        for idx in range(0, len(date_list), 9):\n",
    "            print(\"{date1}    {date2}    {date3}    {date4}    {date5}     {date6}    {date7}    {date8}    {date9}\".format(\n",
    "                date1=date_list[idx].strftime(\"%d.%m.%Y\"),\n",
    "                date2=date_list[idx+1].strftime(\"%d.%m.%Y\"),\n",
    "                date3=date_list[idx+2].strftime(\"%d.%m.%Y\"),\n",
    "                date4=date_list[idx+3].strftime(\"%d.%m.%Y\"),\n",
    "                date5=date_list[idx+4].strftime(\"%d.%m.%Y\"),    \n",
    "                date6=date_list[idx+5].strftime(\"%d.%m.%Y\"),\n",
    "                date7=date_list[idx+6].strftime(\"%d.%m.%Y\"),\n",
    "                date8=date_list[idx+7].strftime(\"%d.%m.%Y\"),\n",
    "                date9=date_list[idx+8].strftime(\"%d.%m.%Y\"),\n",
    "                )\n",
    "            )\n",
    "\n",
    "  \n",
    "       \n",
    "    \n",
    "interact(new_tzolkin2, name_str= widgets.SelectionSlider(\n",
    "    options=tzolkin_calendar.day_names.values(),\n",
    "    value='Imix',\n",
    "    description='Day Name',\n",
    "    disabled=False,\n",
    "    continuous_update=True,\n",
    "    orientation='horizontal',\n",
    "    readout=True\n",
    "), number=widgets.IntSlider(\n",
    "    value=1,\n",
    "    min=1,\n",
    "    max=13,\n",
    "    step=1,\n",
    "    description='Day Number:',\n",
    "    disabled=False,\n",
    "    continuous_update=True,\n",
    "    orientation='horizontal',\n",
    "    readout=True,\n",
    "    readout_format='d'\n",
    "), filter_str=widgets.Text(\n",
    "    value='01.01.',\n",
    "    placeholder='Filter',\n",
    "    description='Filter',\n",
    "    disabled=False\n",
    "));\n"
   ]
  },
  {
   "cell_type": "code",
   "execution_count": null,
   "id": "exposed-ideal",
   "metadata": {},
   "outputs": [],
   "source": []
  }
 ],
 "metadata": {
  "kernelspec": {
   "display_name": "Python 3",
   "language": "python",
   "name": "python3"
  },
  "language_info": {
   "codemirror_mode": {
    "name": "ipython",
    "version": 3
   },
   "file_extension": ".py",
   "mimetype": "text/x-python",
   "name": "python",
   "nbconvert_exporter": "python",
   "pygments_lexer": "ipython3",
   "version": "3.9.2"
  }
 },
 "nbformat": 4,
 "nbformat_minor": 5
}
