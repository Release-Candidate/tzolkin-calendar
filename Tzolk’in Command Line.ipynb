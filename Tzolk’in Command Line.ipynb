{
 "cells": [
  {
   "cell_type": "markdown",
   "id": "employed-planning",
   "metadata": {},
   "source": [
    "# Tzolk’in Command Line Client\n",
    "\n",
    "For more information about `tzolkin-calenar` visit the [GitHub Project Page](https://github.com/Release-Candidate/tzolkin-calendar)\n",
    "\n",
    "We start the command line client of `tzolkin-calendar` using `python -m`: beware of the underscore (`_`)"
   ]
  },
  {
   "cell_type": "code",
   "execution_count": 1,
   "id": "specific-honolulu",
   "metadata": {},
   "outputs": [
    {
     "name": "stdout",
     "output_type": "stream",
     "text": [
      "usage: python -m tzolkin_calendar [-h] [--version] [-l LIST_LENGTH]\n",
      "                                  [-s START_DATE] [-y]\n",
      "                                  [DATE ...]\n",
      "\n",
      "A Tzolk’in date converter and calculator.\n",
      "\n",
      "Examples:\n",
      "\n",
      "To get the Tzolk’in date of today:\n",
      "\n",
      " python -m tzolkin_calendar\n",
      "\n",
      "To get the next and last gregorian dates with a Tzolk’in date of '8 Chuwen' you can use either:\n",
      "\n",
      " python -m tzolkin_calendar 8 Chuwen\n",
      " python -m tzolkin_calendar 8/Chuwen\n",
      " python -m tzolkin_calendar 8.Chuwen\n",
      " python -m tzolkin_calendar 8-Chuwen\n",
      " python -m tzolkin_calendar 8 11\n",
      " python -m tzolkin_calendar 8/11\n",
      " python -m tzolkin_calendar 8.11\n",
      " python -m tzolkin_calendar 8-11\n",
      "\n",
      "To get the Tzolk’in date of the 16th april 2016, use one of these date formats:\n",
      "\n",
      "    python -m tzolkin_calendar 16.04.2016\n",
      "    python -m tzolkin_calendar 16-04-2016\n",
      "    python -m tzolkin_calendar 16 04 2016\n",
      "    python -m tzolkin_calendar 2016.04.16\n",
      "    python -m tzolkin_calendar 2016-04-16\n",
      "    python -m tzolkin_calendar 2016/04/16\n",
      "    python -m tzolkin_calendar 2016 04 16\n",
      "    python -m tzolkin_calendar 04/16/2016\n",
      "\n",
      "positional arguments:\n",
      "  DATE                  The date to parse and convert. Either a Tzolk’in date or a gregorian date can be given. The default is the date of today.\n",
      "\n",
      "optional arguments:\n",
      "  -h, --help            show this help message and exit\n",
      "  --version             show program's version number and exit\n",
      "  -l LIST_LENGTH, --list LIST_LENGTH\n",
      "                        Display a list of dates with the given Tzolk’in date instead of a single one. The length of the list is LIST_LENGTH.\n",
      "  -s START_DATE, --start START_DATE\n",
      "                        The start date to begin the search for the dates with the same Tzolk’in date. The same formatting rules apply as for the main argument DATE.\n",
      "  -y, --year            Print all dates of a Tzolk’in year.\n",
      "\n",
      "See website https://github.com/Release-Candidate/tzolkin_calendar for a detailed description.\n"
     ]
    },
    {
     "name": "stderr",
     "output_type": "stream",
     "text": [
      "error \"'charmap' codec can't encode character '\\u02bc' in position 30: character maps to <undefined>\" parsing date \"25.03.2021\". Exiting\n"
     ]
    }
   ],
   "source": [
    "! python -m tzolkin_calendar"
   ]
  },
  {
   "cell_type": "markdown",
   "id": "strong-maryland",
   "metadata": {},
   "source": [
    "As default, if no argument is given, the Tzolk’in date of the current day ('today' ins the 24th of March, 2021) is printed.\n",
    "\n",
    "To get the version of `tzolkin_calendar`, use the argument `--version`"
   ]
  },
  {
   "cell_type": "code",
   "execution_count": 2,
   "id": "eleven-gregory",
   "metadata": {},
   "outputs": [
    {
     "name": "stdout",
     "output_type": "stream",
     "text": [
      "tzolkin-calendar 0.9.6\n"
     ]
    }
   ],
   "source": [
    "! python -m tzolkin_calendar --version"
   ]
  },
  {
   "cell_type": "markdown",
   "id": "frozen-understanding",
   "metadata": {},
   "source": [
    "The argument `--help` displays a short usage text, we go through all options in the follwing parts."
   ]
  },
  {
   "cell_type": "code",
   "execution_count": 3,
   "id": "plain-appraisal",
   "metadata": {},
   "outputs": [
    {
     "name": "stdout",
     "output_type": "stream",
     "text": [
      "usage: python -m tzolkin_calendar [-h] [--version] [-l LIST_LENGTH]\n",
      "                                  [-s START_DATE] [-y]\n",
      "                                  [DATE ...]\n",
      "\n",
      "A Tzolk’in date converter and calculator.\n",
      "\n",
      "Examples:\n",
      "\n",
      "To get the Tzolk’in date of today:\n",
      "\n",
      " python -m tzolkin_calendar\n",
      "\n",
      "To get the next and last gregorian dates with a Tzolk’in date of '8 Chuwen' you can use either:\n",
      "\n",
      " python -m tzolkin_calendar 8 Chuwen\n",
      " python -m tzolkin_calendar 8/Chuwen\n",
      " python -m tzolkin_calendar 8.Chuwen\n",
      " python -m tzolkin_calendar 8-Chuwen\n",
      " python -m tzolkin_calendar 8 11\n",
      " python -m tzolkin_calendar 8/11\n",
      " python -m tzolkin_calendar 8.11\n",
      " python -m tzolkin_calendar 8-11\n",
      "\n",
      "To get the Tzolk’in date of the 16th april 2016, use one of these date formats:\n",
      "\n",
      "    python -m tzolkin_calendar 16.04.2016\n",
      "    python -m tzolkin_calendar 16-04-2016\n",
      "    python -m tzolkin_calendar 16 04 2016\n",
      "    python -m tzolkin_calendar 2016.04.16\n",
      "    python -m tzolkin_calendar 2016-04-16\n",
      "    python -m tzolkin_calendar 2016/04/16\n",
      "    python -m tzolkin_calendar 2016 04 16\n",
      "    python -m tzolkin_calendar 04/16/2016\n",
      "\n",
      "positional arguments:\n",
      "  DATE                  The date to parse and convert. Either a Tzolk’in date or a gregorian date can be given. The default is the date of today.\n",
      "\n",
      "optional arguments:\n",
      "  -h, --help            show this help message and exit\n",
      "  --version             show program's version number and exit\n",
      "  -l LIST_LENGTH, --list LIST_LENGTH\n",
      "                        Display a list of dates with the given Tzolk’in date instead of a single one. The length of the list is LIST_LENGTH.\n",
      "  -s START_DATE, --start START_DATE\n",
      "                        The start date to begin the search for the dates with the same Tzolk’in date. The same formatting rules apply as for the main argument DATE.\n",
      "  -y, --year            Print all dates of a Tzolk’in year.\n",
      "\n",
      "See website https://github.com/Release-Candidate/tzolkin_calendar for a detailed description.\n"
     ]
    }
   ],
   "source": [
    "! python -m tzolkin_calendar --help"
   ]
  },
  {
   "cell_type": "markdown",
   "id": "streaming-projection",
   "metadata": {},
   "source": [
    "## Converting Gregorian Dates to Tzolk’in Dates\n",
    "\n",
    "To get the Tzolk’in date of a Gregorian date use the Gregorian date as the main argument to `tzolkin_calendar`.\n",
    "\n",
    "E.g. to get the Tzolk’in date of the 18th of May, 1974, which is \"12 Akʼbʼal\""
   ]
  },
  {
   "cell_type": "code",
   "execution_count": 4,
   "id": "requested-irrigation",
   "metadata": {},
   "outputs": [
    {
     "name": "stdout",
     "output_type": "stream",
     "text": [
      "usage: python -m tzolkin_calendar [-h] [--version] [-l LIST_LENGTH]\n",
      "                                  [-s START_DATE] [-y]\n",
      "                                  [DATE ...]\n",
      "\n",
      "A Tzolk’in date converter and calculator.\n",
      "\n",
      "Examples:\n",
      "\n",
      "To get the Tzolk’in date of today:\n",
      "\n",
      " python -m tzolkin_calendar\n",
      "\n",
      "To get the next and last gregorian dates with a Tzolk’in date of '8 Chuwen' you can use either:\n",
      "\n",
      " python -m tzolkin_calendar 8 Chuwen\n",
      " python -m tzolkin_calendar 8/Chuwen\n",
      " python -m tzolkin_calendar 8.Chuwen\n",
      " python -m tzolkin_calendar 8-Chuwen\n",
      " python -m tzolkin_calendar 8 11\n",
      " python -m tzolkin_calendar 8/11\n",
      " python -m tzolkin_calendar 8.11\n",
      " python -m tzolkin_calendar 8-11\n",
      "\n",
      "To get the Tzolk’in date of the 16th april 2016, use one of these date formats:\n",
      "\n",
      "    python -m tzolkin_calendar 16.04.2016\n",
      "    python -m tzolkin_calendar 16-04-2016\n",
      "    python -m tzolkin_calendar 16 04 2016\n",
      "    python -m tzolkin_calendar 2016.04.16\n",
      "    python -m tzolkin_calendar 2016-04-16\n",
      "    python -m tzolkin_calendar 2016/04/16\n",
      "    python -m tzolkin_calendar 2016 04 16\n",
      "    python -m tzolkin_calendar 04/16/2016\n",
      "\n",
      "positional arguments:\n",
      "  DATE                  The date to parse and convert. Either a Tzolk’in date or a gregorian date can be given. The default is the date of today.\n",
      "\n",
      "optional arguments:\n",
      "  -h, --help            show this help message and exit\n",
      "  --version             show program's version number and exit\n",
      "  -l LIST_LENGTH, --list LIST_LENGTH\n",
      "                        Display a list of dates with the given Tzolk’in date instead of a single one. The length of the list is LIST_LENGTH.\n",
      "  -s START_DATE, --start START_DATE\n",
      "                        The start date to begin the search for the dates with the same Tzolk’in date. The same formatting rules apply as for the main argument DATE.\n",
      "  -y, --year            Print all dates of a Tzolk’in year.\n",
      "\n",
      "See website https://github.com/Release-Candidate/tzolkin_calendar for a detailed description.\n"
     ]
    },
    {
     "name": "stderr",
     "output_type": "stream",
     "text": [
      "error \"'charmap' codec can't encode character '\\u02bc' in position 32: character maps to <undefined>\" parsing date \"18.05.1974\". Exiting\n"
     ]
    }
   ],
   "source": [
    "! python -m tzolkin_calendar 18.05.1974"
   ]
  },
  {
   "cell_type": "markdown",
   "id": "chicken-generation",
   "metadata": {},
   "source": [
    "Many date format conventions are supported, any of these work (and result in the 18th of May, 1974):  \n",
    "DD.MM.YYYY - 18.05.1974  \n",
    "DD-MM-YYYY - 18-05-1974  \n",
    "DD MM YYYY - 18 05 1974  \n",
    "YYYY.MM.DD - 1974.05.18  \n",
    "YYYY-MM-DD - 1974-05-18  \n",
    "YYYY/MM/DD - 1974/05/18  \n",
    "YYYY MM DD - 1974 05 18  \n",
    "MM/DD/YYYY - 05/18/1974"
   ]
  },
  {
   "cell_type": "code",
   "execution_count": 5,
   "id": "southwest-blues",
   "metadata": {},
   "outputs": [
    {
     "name": "stdout",
     "output_type": "stream",
     "text": [
      "usage: python -m tzolkin_calendar [-h] [--version] [-l LIST_LENGTH]\n",
      "                                  [-s START_DATE] [-y]\n",
      "                                  [DATE ...]\n",
      "\n",
      "A Tzolk’in date converter and calculator.\n",
      "\n",
      "Examples:\n",
      "\n",
      "To get the Tzolk’in date of today:\n",
      "\n",
      " python -m tzolkin_calendar\n",
      "\n",
      "To get the next and last gregorian dates with a Tzolk’in date of '8 Chuwen' you can use either:\n",
      "\n",
      " python -m tzolkin_calendar 8 Chuwen\n",
      " python -m tzolkin_calendar 8/Chuwen\n",
      " python -m tzolkin_calendar 8.Chuwen\n",
      " python -m tzolkin_calendar 8-Chuwen\n",
      " python -m tzolkin_calendar 8 11\n",
      " python -m tzolkin_calendar 8/11\n",
      " python -m tzolkin_calendar 8.11\n",
      " python -m tzolkin_calendar 8-11\n",
      "\n",
      "To get the Tzolk’in date of the 16th april 2016, use one of these date formats:\n",
      "\n",
      "    python -m tzolkin_calendar 16.04.2016\n",
      "    python -m tzolkin_calendar 16-04-2016\n",
      "    python -m tzolkin_calendar 16 04 2016\n",
      "    python -m tzolkin_calendar 2016.04.16\n",
      "    python -m tzolkin_calendar 2016-04-16\n",
      "    python -m tzolkin_calendar 2016/04/16\n",
      "    python -m tzolkin_calendar 2016 04 16\n",
      "    python -m tzolkin_calendar 04/16/2016\n",
      "\n",
      "positional arguments:\n",
      "  DATE                  The date to parse and convert. Either a Tzolk’in date or a gregorian date can be given. The default is the date of today.\n",
      "\n",
      "optional arguments:\n",
      "  -h, --help            show this help message and exit\n",
      "  --version             show program's version number and exit\n",
      "  -l LIST_LENGTH, --list LIST_LENGTH\n",
      "                        Display a list of dates with the given Tzolk’in date instead of a single one. The length of the list is LIST_LENGTH.\n",
      "  -s START_DATE, --start START_DATE\n",
      "                        The start date to begin the search for the dates with the same Tzolk’in date. The same formatting rules apply as for the main argument DATE.\n",
      "  -y, --year            Print all dates of a Tzolk’in year.\n",
      "\n",
      "See website https://github.com/Release-Candidate/tzolkin_calendar for a detailed description.\n"
     ]
    },
    {
     "name": "stderr",
     "output_type": "stream",
     "text": [
      "error \"'charmap' codec can't encode character '\\u02bc' in position 32: character maps to <undefined>\" parsing date \"18.05.1974\". Exiting\n"
     ]
    }
   ],
   "source": [
    "! python -m tzolkin_calendar 05/18/1974"
   ]
  },
  {
   "cell_type": "markdown",
   "id": "revised-royal",
   "metadata": {},
   "source": [
    "## Searching Tzolk’in Dates\n",
    "\n",
    "To search for Gregorian Dates to a given Tzolk’in date, input the Tzolk’in date to search for.\n",
    "\n",
    "As default the search is started today (the 24th of March, 2021). So, we search for \"13 Lamat\""
   ]
  },
  {
   "cell_type": "code",
   "execution_count": 6,
   "id": "academic-swedish",
   "metadata": {},
   "outputs": [
    {
     "name": "stdout",
     "output_type": "stream",
     "text": [
      "Tzolk’in date \"13 Lamat\" next date is \"24.08.2021\", last date has been \"07.12.2020\"\n"
     ]
    }
   ],
   "source": [
    "! python -m tzolkin_calendar 13 Lamat"
   ]
  },
  {
   "cell_type": "markdown",
   "id": "enormous-halloween",
   "metadata": {},
   "source": [
    "The next gregorian date with a Tzolk’in date of \"12 Lamat\" after today (the 24th of March 2021) is the 24th od August, 2021, the last gregorian date before today has been the 7th of December 2020.\n",
    "\n",
    "We again can use many formats to pass as Tzolk’in dates:  \n",
    "DD NNNN - 13 Lamat  \n",
    "DD/NNNN - 13/Lamat  \n",
    "DD.NNNN - 13.Lamat  \n",
    "DD-NNNN - 13-Lamat  \n",
    "\n",
    "Instead of the name, we can also use the number of the day name (between 1 and 20), so instead of \"Lamat\" we could use the number 8. The valid formats are again (with or without leading zeroes).  \n",
    "DD NN - 13 8  \n",
    "DD/NN - 13/8  \n",
    "DD.NN - 13.8  \n",
    "DD-NN - 13-8  \n",
    "\n",
    "We can also search starting at other days than today, so lets start the search at the 18th of May 1974, this is the argument to `--start`"
   ]
  },
  {
   "cell_type": "code",
   "execution_count": 7,
   "id": "velvet-vintage",
   "metadata": {},
   "outputs": [
    {
     "name": "stdout",
     "output_type": "stream",
     "text": [
      "Tzolk’in date \"13 Lamat\" next date is \"31.08.1974\", last date has been \"14.12.1973\"\n"
     ]
    }
   ],
   "source": [
    "! python -m tzolkin_calendar 13 Lamat --start 18.05.1974"
   ]
  },
  {
   "cell_type": "markdown",
   "id": "copyrighted-printer",
   "metadata": {},
   "source": [
    "Now the search returned the 31th of August, 1974 as the next and the 14th of December 1974 as the last Gregorian date with \n",
    "the same Tzolk’in date.\n",
    "\n",
    "We can also search for more than one date in the future and the past, by using the argument `--list`, which is the number of Gregorian dates to return. Lets search for 5 Gregorian dates with a Tzolk’in date of \"13 Lamat\", starting at the 18th of May, 1974."
   ]
  },
  {
   "cell_type": "code",
   "execution_count": 8,
   "id": "american-summit",
   "metadata": {},
   "outputs": [
    {
     "name": "stdout",
     "output_type": "stream",
     "text": [
      "Tzolk’in date \"13 Lamat\"\n",
      " next dates are ['31.08.1974', '18.05.1975', '02.02.1976', '19.10.1976', '06.07.1977']\n",
      " last dates have been ['14.12.1973', '29.03.1973', '12.07.1972', '26.10.1971', '08.02.1971']\n"
     ]
    }
   ],
   "source": [
    "! python -m tzolkin_calendar 13 Lamat --start 18.05.1974 --list 5"
   ]
  },
  {
   "cell_type": "markdown",
   "id": "gothic-greek",
   "metadata": {},
   "source": [
    "So we're getting 5 Gregorian dates after and before the 18th of May, 1974.\n",
    "\n",
    "Without an `--start` argument, we start the search today (the 24th of March, 2021)."
   ]
  },
  {
   "cell_type": "code",
   "execution_count": 9,
   "id": "premier-limit",
   "metadata": {},
   "outputs": [
    {
     "name": "stdout",
     "output_type": "stream",
     "text": [
      "Tzolk’in date \"13 Lamat\"\n",
      " next dates are ['24.08.2021', '11.05.2022', '26.01.2023', '13.10.2023', '29.06.2024']\n",
      " last dates have been ['07.12.2020', '22.03.2020', '06.07.2019', '19.10.2018', '01.02.2018']\n"
     ]
    }
   ],
   "source": [
    "! python -m tzolkin_calendar 13 Lamat --list 5"
   ]
  },
  {
   "cell_type": "markdown",
   "id": "listed-person",
   "metadata": {},
   "source": [
    "We can make the list as long as we want, but if the list would be too long, we ran out of the valid calendar days."
   ]
  },
  {
   "cell_type": "code",
   "execution_count": 10,
   "id": "potential-simulation",
   "metadata": {},
   "outputs": [
    {
     "name": "stderr",
     "output_type": "stream",
     "text": [
      "Traceback (most recent call last):\n",
      "  File \"C:\\Program Files\\Python39\\lib\\runpy.py\", line 197, in _run_module_as_main\n",
      "    return _run_code(code, main_globals, None,\n",
      "  File \"C:\\Program Files\\Python39\\lib\\runpy.py\", line 87, in _run_code\n",
      "    exec(code, run_globals)\n",
      "  File \"C:\\Users\\RC\\Documents\\code\\tzolkin-calendar\\tzolkin_calendar\\__main__.py\", line 31, in <module>\n",
      "    main.main()\n",
      "  File \"C:\\Users\\RC\\Documents\\code\\tzolkin-calendar\\tzolkin_calendar\\main.py\", line 53, in main\n",
      "    tzolkin_number, tzolkin_day_number = __date2Tzolkin(\n",
      "  File \"C:\\Users\\RC\\Documents\\code\\tzolkin-calendar\\tzolkin_calendar\\main.py\", line 85, in __date2Tzolkin\n",
      "    __searchTzolkinDates(\n",
      "  File \"C:\\Users\\RC\\Documents\\code\\tzolkin-calendar\\tzolkin_calendar\\main.py\", line 121, in __searchTzolkinDates\n",
      "    __printTzolkinList(\n",
      "  File \"C:\\Users\\RC\\Documents\\code\\tzolkin-calendar\\tzolkin_calendar\\main.py\", line 274, in __printTzolkinList\n",
      "    last_date_list = tzolkin.getLastDateList(\n",
      "  File \"C:\\Users\\RC\\Documents\\code\\tzolkin-calendar\\tzolkin_calendar\\tzolkin.py\", line 286, in getLastDateList\n",
      "    return tzolkin2gregorian(\n",
      "  File \"C:\\Users\\RC\\Documents\\code\\tzolkin-calendar\\tzolkin_calendar\\calculate.py\", line 259, in tzolkin2gregorian\n",
      "    __backward(tzolkin, num_results, ret_val)\n",
      "  File \"C:\\Users\\RC\\Documents\\code\\tzolkin-calendar\\tzolkin_calendar\\calculate.py\", line 277, in __backward\n",
      "    ret_val.append(lastTzolkin(tzolkin=tzolkin, starting=ret_val[-1]))\n",
      "  File \"C:\\Users\\RC\\Documents\\code\\tzolkin-calendar\\tzolkin_calendar\\calculate.py\", line 417, in lastTzolkin\n",
      "    return starting + day_diff_delta\n",
      "OverflowError: date value out of range\n"
     ]
    }
   ],
   "source": [
    "! python -m tzolkin_calendar 13 Lamat --list 10000"
   ]
  },
  {
   "cell_type": "markdown",
   "id": "confidential-swiss",
   "metadata": {},
   "source": [
    "## Print all Tzolk’in Dates in a Tzolk’in Year\n",
    "\n",
    "To get a list of all 260 Tzolk’in dates in a Tzolk’in year, we use the argument `--year`:"
   ]
  },
  {
   "cell_type": "code",
   "execution_count": 11,
   "id": "twelve-wiring",
   "metadata": {},
   "outputs": [
    {
     "name": "stderr",
     "output_type": "stream",
     "text": [
      "Traceback (most recent call last):\n",
      "  File \"C:\\Program Files\\Python39\\lib\\runpy.py\", line 197, in _run_module_as_main\n",
      "    return _run_code(code, main_globals, None,\n",
      "  File \"C:\\Program Files\\Python39\\lib\\runpy.py\", line 87, in _run_code\n",
      "    exec(code, run_globals)\n",
      "  File \"C:\\Users\\RC\\Documents\\code\\tzolkin-calendar\\tzolkin_calendar\\__main__.py\", line 31, in <module>\n",
      "    main.main()\n",
      "  File \"C:\\Users\\RC\\Documents\\code\\tzolkin-calendar\\tzolkin_calendar\\main.py\", line 49, in main\n",
      "    __displayYear(cmdline_args)\n",
      "  File \"C:\\Users\\RC\\Documents\\code\\tzolkin-calendar\\tzolkin_calendar\\main.py\", line 360, in __displayYear\n",
      "    __displayYearList(year_dict)\n",
      "  File \"C:\\Users\\RC\\Documents\\code\\tzolkin-calendar\\tzolkin_calendar\\main.py\", line 374, in __displayYearList\n",
      "    print(key_string)\n",
      "  File \"C:\\Program Files\\Python39\\lib\\encodings\\cp1252.py\", line 19, in encode\n",
      "    return codecs.charmap_encode(input,self.errors,encoding_table)[0]\n",
      "UnicodeEncodeError: 'charmap' codec can't encode character '\\u02bc' in position 12: character maps to <undefined>\n"
     ]
    }
   ],
   "source": [
    "! python -m tzolkin_calendar --year"
   ]
  }
 ],
 "metadata": {
  "kernelspec": {
   "display_name": "Python 3",
   "language": "python",
   "name": "python3"
  },
  "language_info": {
   "codemirror_mode": {
    "name": "ipython",
    "version": 3
   },
   "file_extension": ".py",
   "mimetype": "text/x-python",
   "name": "python",
   "nbconvert_exporter": "python",
   "pygments_lexer": "ipython3",
   "version": "3.9.2"
  }
 },
 "nbformat": 4,
 "nbformat_minor": 5
}
